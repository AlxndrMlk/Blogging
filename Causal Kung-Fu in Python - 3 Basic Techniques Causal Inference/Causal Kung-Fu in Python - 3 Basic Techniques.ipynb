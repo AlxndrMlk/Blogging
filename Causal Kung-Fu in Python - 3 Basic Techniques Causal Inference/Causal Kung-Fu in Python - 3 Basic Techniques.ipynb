{
 "cells": [
  {
   "cell_type": "code",
   "execution_count": 1,
   "id": "91bf428a",
   "metadata": {},
   "outputs": [],
   "source": [
    "import numpy as np\n",
    "import pandas as pd\n",
    "\n",
    "import dowhy\n",
    "from dowhy import CausalModel\n",
    "\n",
    "import matplotlib.pyplot as plt\n",
    "plt.style.use('fivethirtyeight')"
   ]
  },
  {
   "cell_type": "code",
   "execution_count": 2,
   "id": "ab111310",
   "metadata": {},
   "outputs": [
    {
     "data": {
      "text/plain": [
       "'0.8'"
      ]
     },
     "execution_count": 2,
     "metadata": {},
     "output_type": "execute_result"
    }
   ],
   "source": [
    "dowhy.__version__"
   ]
  },
  {
   "cell_type": "markdown",
   "id": "ccb180e9",
   "metadata": {},
   "source": [
    "## Generate the datasets"
   ]
  },
  {
   "cell_type": "code",
   "execution_count": 93,
   "id": "4e7ebae2",
   "metadata": {},
   "outputs": [],
   "source": [
    "# Define the sample size\n",
    "sample_size = 1000\n",
    "\n",
    "# The first dataset\n",
    "W = np.random.randn(sample_size)\n",
    "X = 0.3*W + np.random.randn(sample_size)\n",
    "Y = 0.45*W + 0.87*X + 0.4*np.random.randn(sample_size)\n",
    "\n",
    "# Note that we pass all the variables to the dataframe\n",
    "data_1 = pd.DataFrame(np.vstack([X, W, Y]).T, columns=['X', 'W', 'Y'])\n",
    "\n",
    "\n",
    "# The second dataset\n",
    "U = np.random.randn(sample_size)\n",
    "X = 0.3*U + np.random.randn(sample_size)\n",
    "Z = 0.78*X + 0.3*np.random.randn(sample_size)\n",
    "Y = 0.45*U + 0.87*Z + 0.4*np.random.randn(sample_size)\n",
    "\n",
    "# Note that we're ommiting U in the dataframe as it's unobserved\n",
    "data_2 = pd.DataFrame(np.vstack([X, Z, Y]).T, columns=['X', 'Z', 'Y']) \n",
    "\n",
    "\n",
    "# The third dataset\n",
    "U = np.random.randn(sample_size)\n",
    "Z = np.random.randn(sample_size)\n",
    "X = 0.6*Z + 0.43*U + np.random.randn(sample_size)\n",
    "Y = 0.45*U + 0.87*X + 0.4*np.random.randn(sample_size)\n",
    "\n",
    "# Note that we're ommiting U in the dataframe as it's unobserved\n",
    "data_3 = pd.DataFrame(np.vstack([X, Z, Y]).T, columns=['X', 'Z', 'Y'])"
   ]
  },
  {
   "cell_type": "markdown",
   "id": "dd670d41",
   "metadata": {},
   "source": [
    "## Dataset 1"
   ]
  },
  {
   "cell_type": "markdown",
   "id": "47246fed",
   "metadata": {},
   "source": [
    "### Step 1: Model the problem"
   ]
  },
  {
   "cell_type": "code",
   "execution_count": 94,
   "id": "8dd053a7",
   "metadata": {},
   "outputs": [],
   "source": [
    "# Create the graph\n",
    "graph_1 = \"\"\"\n",
    "    graph [\n",
    "    \n",
    "        directed 1\n",
    "\n",
    "        node [id \"X\" label \"X\"]    \n",
    "        node [id \"W\" label \"W\"]\n",
    "        node [id \"Y\" label \"Y\"]\n",
    "        \n",
    "        edge [source \"W\" target \"X\"]\n",
    "        edge [source \"W\" target \"Y\"]\n",
    "        edge [source \"X\" target \"Y\"]\n",
    "    ]    \n",
    "\"\"\""
   ]
  },
  {
   "cell_type": "code",
   "execution_count": 95,
   "id": "2308eb73",
   "metadata": {},
   "outputs": [],
   "source": [
    "# Instantiate the CausalModel object\n",
    "model_1 = CausalModel(\n",
    "    data=data_1,\n",
    "    treatment='X',\n",
    "    outcome='Y',\n",
    "    graph=graph_1\n",
    ")"
   ]
  },
  {
   "cell_type": "code",
   "execution_count": 96,
   "id": "34cf75f0",
   "metadata": {},
   "outputs": [
    {
     "data": {
      "image/png": "[encoded data removed]",
      "text/plain": [
       "<Figure size 800x600 with 1 Axes>"
      ]
     },
     "metadata": {},
     "output_type": "display_data"
    }
   ],
   "source": [
    "model_1.view_model()"
   ]
  },
  {
   "cell_type": "markdown",
   "id": "1c290810",
   "metadata": {},
   "source": [
    "### Step 2: Identify the estimand"
   ]
  },
  {
   "cell_type": "code",
   "execution_count": 97,
   "id": "65104693",
   "metadata": {},
   "outputs": [
    {
     "name": "stdout",
     "output_type": "stream",
     "text": [
      "MODEL 2:\n",
      "Estimand type: nonparametric-ate\n",
      "\n",
      "### Estimand : 1\n",
      "Estimand name: backdoor\n",
      "Estimand expression:\n",
      " d          \n",
      "────(E[Y|W])\n",
      "d[X]        \n",
      "Estimand assumption 1, Unconfoundedness: If U→{X} and U→Y then P(Y|X,W,U) = P(Y|X,W)\n",
      "\n",
      "### Estimand : 2\n",
      "Estimand name: iv\n",
      "No such variable(s) found!\n",
      "\n",
      "### Estimand : 3\n",
      "Estimand name: frontdoor\n",
      "No such variable(s) found!\n",
      "\n"
     ]
    }
   ],
   "source": [
    "estimand_1 = model_1.identify_effect()\n",
    "print(f'MODEL 2:\\n{estimand_1}')"
   ]
  },
  {
   "cell_type": "markdown",
   "id": "fd48c23c",
   "metadata": {},
   "source": [
    "### Step 3: Estimate the effect"
   ]
  },
  {
   "cell_type": "code",
   "execution_count": 98,
   "id": "adbd65df",
   "metadata": {
    "scrolled": true
   },
   "outputs": [
    {
     "name": "stdout",
     "output_type": "stream",
     "text": [
      "linear_regression\n",
      "{'control_value': 0, 'treatment_value': 1, 'test_significance': None, 'evaluate_effect_strength': False, 'confidence_intervals': False, 'target_units': 'ate', 'effect_modifiers': []}\n",
      "Estimate of causal effect (MODEL 1): 0.8591823936185948\n"
     ]
    }
   ],
   "source": [
    "estimate_1 = model_1.estimate_effect(\n",
    "    identified_estimand=estimand_1,\n",
    "    method_name='backdoor.linear_regression')\n",
    "\n",
    "print(f'Estimate of causal effect (MODEL 1): {estimate_1.value}')"
   ]
  },
  {
   "cell_type": "markdown",
   "id": "838add54",
   "metadata": {},
   "source": [
    "## Dataset 2"
   ]
  },
  {
   "cell_type": "code",
   "execution_count": 99,
   "id": "9ef12cc1",
   "metadata": {},
   "outputs": [
    {
     "name": "stdout",
     "output_type": "stream",
     "text": [
      "\n",
      "Graph for Model 2:\n",
      "graph [directed 1\n",
      "\tnode [id \"X\" label \"X\"]\n",
      "\tnode [id \"Y\" label \"Y\"]\n",
      "\tnode [id \"Z\" label \"Z\"]\n",
      "\tnode [id \"U\" label \"U\"]\n",
      "\tedge [source \"X\" target \"Z\"]\n",
      "\tedge [source \"Z\" target \"Y\"]\n",
      "\tedge [source \"U\" target \"X\"]\n",
      "\tedge [source \"U\" target \"Y\"]\n",
      "]\n",
      "\n",
      "Estimand for Model 2:\n",
      "Estimand type: nonparametric-ate\n",
      "\n",
      "### Estimand : 1\n",
      "Estimand name: backdoor\n",
      "No such variable(s) found!\n",
      "\n",
      "### Estimand : 2\n",
      "Estimand name: iv\n",
      "No such variable(s) found!\n",
      "\n",
      "### Estimand : 3\n",
      "Estimand name: frontdoor\n",
      "Estimand expression:\n",
      " ⎡ d       d       ⎤\n",
      "E⎢────(Y)⋅────([Z])⎥\n",
      " ⎣d[Z]    d[X]     ⎦\n",
      "Estimand assumption 1, Full-mediation: Z intercepts (blocks) all directed paths from X to Y.\n",
      "Estimand assumption 2, First-stage-unconfoundedness: If U→{X} and U→{Z} then P(Z|X,U) = P(Z|X)\n",
      "Estimand assumption 3, Second-stage-unconfoundedness: If U→{Z} and U→Y then P(Y|Z, X, U) = P(Y|Z, X)\n",
      "\n",
      "two_stage_regression\n",
      "{'control_value': 0, 'treatment_value': 1, 'test_significance': None, 'evaluate_effect_strength': False, 'confidence_intervals': False, 'target_units': 'ate', 'effect_modifiers': [], 'first_stage_model': None, 'second_stage_model': None}\n",
      "{'control_value': 0, 'treatment_value': 1, 'test_significance': None, 'evaluate_effect_strength': False, 'confidence_intervals': False, 'target_units': 'ate', 'effect_modifiers': [], 'first_stage_model': None, 'second_stage_model': None}\n",
      "\n",
      "\n",
      "Estimate of causal effect (Model 2): 0.662280116061264\n"
     ]
    },
    {
     "data": {
      "image/png": "[encoded data removed]",
      "text/plain": [
       "<Figure size 800x600 with 1 Axes>"
      ]
     },
     "metadata": {},
     "output_type": "display_data"
    }
   ],
   "source": [
    "# STEP 1\n",
    "\n",
    "nodes_2 = ['X', 'Y', 'Z', 'U']\n",
    "edges_2 = ['XZ', 'ZY', 'UX', 'UY']\n",
    "\n",
    "# Generate the GML graph\n",
    "graph_2 = 'graph [directed 1\\n'\n",
    "\n",
    "for node in nodes_2:\n",
    "    graph_2 += f'\\tnode [id \"{node}\" label \"{node}\"]\\n'\n",
    "\n",
    "for edge in edges_2:\n",
    "    graph_2 += f'\\tedge [source \"{edge[0]}\" target \"{edge[1]}\"]\\n'\n",
    "    \n",
    "graph_2 += ']'\n",
    "\n",
    "# Print out the graph\n",
    "print(f'\\nGraph for Model 2:\\n{graph_2}\\n')\n",
    "\n",
    "# Instantiate the model\n",
    "model_2 = CausalModel(\n",
    "    data=data_2,\n",
    "    treatment='X',\n",
    "    outcome='Y',\n",
    "    graph=graph_2,  \n",
    ")\n",
    "\n",
    "model_2.view_model()\n",
    "\n",
    "\n",
    "# STEP 2\n",
    "estimand_2 = model_2.identify_effect()\n",
    "print(f'Estimand for Model 2:\\n{estimand_2}')\n",
    "\n",
    "\n",
    "# STEP 3\n",
    "estimate_2 = model_2.estimate_effect(\n",
    "    identified_estimand=estimand_2,\n",
    "    method_name='frontdoor.two_stage_regression')\n",
    "\n",
    "print(f'\\n\\nEstimate of causal effect (Model 2): {estimate_2.value}')"
   ]
  },
  {
   "cell_type": "markdown",
   "id": "9a687e9e",
   "metadata": {},
   "source": [
    "## Dataset 3 - Instrumental Variable"
   ]
  },
  {
   "cell_type": "code",
   "execution_count": 100,
   "id": "bfb878a8",
   "metadata": {
    "scrolled": true
   },
   "outputs": [
    {
     "name": "stdout",
     "output_type": "stream",
     "text": [
      "\n",
      "Graph for Model 3:\n",
      "graph [directed 1\n",
      "\tnode [id \"X\" label \"X\"]\n",
      "\tnode [id \"Y\" label \"Y\"]\n",
      "\tnode [id \"Z\" label \"Z\"]\n",
      "\tnode [id \"U\" label \"U\"]\n",
      "\tedge [source \"Z\" target \"X\"]\n",
      "\tedge [source \"U\" target \"X\"]\n",
      "\tedge [source \"U\" target \"Y\"]\n",
      "\tedge [source \"X\" target \"Y\"]\n",
      "]\n",
      "\n",
      "Estimand for Model 2:\n",
      "Estimand type: nonparametric-ate\n",
      "\n",
      "### Estimand : 1\n",
      "Estimand name: backdoor\n",
      "No such variable(s) found!\n",
      "\n",
      "### Estimand : 2\n",
      "Estimand name: iv\n",
      "Estimand expression:\n",
      " ⎡                   -1⎤\n",
      " ⎢ d      ⎛ d       ⎞  ⎥\n",
      "E⎢────(Y)⋅⎜────([X])⎟  ⎥\n",
      " ⎣d[Z]    ⎝d[Z]     ⎠  ⎦\n",
      "Estimand assumption 1, As-if-random: If U→→Y then ¬(U →→{Z})\n",
      "Estimand assumption 2, Exclusion: If we remove {Z}→{X}, then ¬({Z}→Y)\n",
      "\n",
      "### Estimand : 3\n",
      "Estimand name: frontdoor\n",
      "No such variable(s) found!\n",
      "\n",
      "instrumental_variable\n",
      "\n",
      "\n",
      "Estimate of causal effect (Model 3): 0.9033910718128734\n"
     ]
    },
    {
     "data": {
      "image/png": "[encoded data removed]",
      "text/plain": [
       "<Figure size 800x600 with 1 Axes>"
      ]
     },
     "metadata": {},
     "output_type": "display_data"
    }
   ],
   "source": [
    "# STEP 1\n",
    "\n",
    "nodes_3 = ['X', 'Y', 'Z', 'U']\n",
    "edges_3 = ['ZX', 'UX', 'UY', 'XY']\n",
    "\n",
    "# Generate the GML graph\n",
    "graph_3 = 'graph [directed 1\\n'\n",
    "\n",
    "for node in nodes_3:\n",
    "    graph_3 += f'\\tnode [id \"{node}\" label \"{node}\"]\\n'\n",
    "\n",
    "for edge in edges_3:\n",
    "    graph_3 += f'\\tedge [source \"{edge[0]}\" target \"{edge[1]}\"]\\n'\n",
    "    \n",
    "graph_3 += ']'\n",
    "\n",
    "# Print out the graph\n",
    "print(f'\\nGraph for Model 3:\\n{graph_3}\\n')\n",
    "\n",
    "# Instantiate the model\n",
    "model_3 = CausalModel(\n",
    "    data=data_3,\n",
    "    treatment='X',\n",
    "    outcome='Y',\n",
    "    graph=graph_3,  \n",
    ")\n",
    "\n",
    "model_3.view_model()\n",
    "\n",
    "\n",
    "# STEP 2\n",
    "estimand_3 = model_3.identify_effect()\n",
    "print(f'Estimand for Model 2:\\n{estimand_3}')\n",
    "\n",
    "\n",
    "# STEP 3\n",
    "estimate_3 = model_3.estimate_effect(\n",
    "    identified_estimand=estimand_3,\n",
    "    method_name='iv.instrumental_variable')\n",
    "\n",
    "print(f'\\n\\nEstimate of causal effect (Model 3): {estimate_3.value}')"
   ]
  },
  {
   "cell_type": "code",
   "execution_count": null,
   "id": "8236b571",
   "metadata": {},
   "outputs": [],
   "source": [
    "# Estimand for Model 2:\n",
    "# Estimand type: nonparametric-ate\n",
    "\n",
    "# ### Estimand : 1\n",
    "# Estimand name: backdoor\n",
    "# No such variable(s) found!\n",
    "\n",
    "# ### Estimand : 2\n",
    "# Estimand name: iv\n",
    "# Estimand expression:\n",
    "#  ⎡                   -1⎤\n",
    "#  ⎢ d      ⎛ d       ⎞  ⎥\n",
    "# E⎢────(Y)⋅⎜────([X])⎟  ⎥\n",
    "#  ⎣d[Z]    ⎝d[Z]     ⎠  ⎦\n",
    "# Estimand assumption 1, As-if-random: If U→→Y then ¬(U →→{Z})\n",
    "# Estimand assumption 2, Exclusion: If we remove {Z}→{X}, then ¬({Z}→Y)\n",
    "\n",
    "# ### Estimand : 3\n",
    "# Estimand name: frontdoor\n",
    "# No such variable(s) found!"
   ]
  }
 ],
 "metadata": {
  "kernelspec": {
   "display_name": "Python [conda env:causal_kung_fu_1_py38]",
   "language": "python",
   "name": "conda-env-causal_kung_fu_1_py38-py"
  },
  "language_info": {
   "codemirror_mode": {
    "name": "ipython",
    "version": 3
   },
   "file_extension": ".py",
   "mimetype": "text/x-python",
   "name": "python",
   "nbconvert_exporter": "python",
   "pygments_lexer": "ipython3",
   "version": "3.8.13"
  }
 },
 "nbformat": 4,
 "nbformat_minor": 5
}
