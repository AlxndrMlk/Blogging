{
 "cells": [
  {
   "cell_type": "code",
   "execution_count": 1,
   "id": "91bf428a",
   "metadata": {},
   "outputs": [],
   "source": [
    "import numpy as np\n",
    "import pandas as pd\n",
    "\n",
    "import dowhy\n",
    "from dowhy import CausalModel\n",
    "\n",
    "import matplotlib.pyplot as plt\n",
    "plt.style.use('fivethirtyeight')"
   ]
  },
  {
   "cell_type": "code",
   "execution_count": 2,
   "id": "ab111310",
   "metadata": {},
   "outputs": [
    {
     "data": {
      "text/plain": [
       "'0.8'"
      ]
     },
     "execution_count": 2,
     "metadata": {},
     "output_type": "execute_result"
    }
   ],
   "source": [
    "dowhy.__version__"
   ]
  },
  {
   "cell_type": "code",
   "execution_count": 12,
   "id": "4e7ebae2",
   "metadata": {},
   "outputs": [],
   "source": [
    "# Define the sample size\n",
    "sample_size = 1000\n",
    "\n",
    "# The first dataset\n",
    "W = np.random.randn(sample_size)\n",
    "X = 0.3*W + np.random.randn(sample_size)\n",
    "Y = 0.45*W + 0.87*X + 0.4*np.random.randn(sample_size)\n",
    "\n",
    "# Note that we pass all the variables to the dataframe\n",
    "data_1 = pd.DataFrame(np.vstack([X, W, Y]).T, columns=['X', 'W', 'Y'])\n",
    "\n",
    "\n",
    "# The second dataset\n",
    "U = np.random.randn(sample_size)\n",
    "X = 0.3*U + np.random.randn(sample_size)\n",
    "Z = 0.78*X + 0.3*np.random.randn(sample_size)\n",
    "Y = 0.45*U + 0.87*Z + 0.4*np.random.randn(sample_size)\n",
    "\n",
    "# Note that we're ommiting U in the dataframe as it's unobserved\n",
    "data_2 = pd.DataFrame(np.vstack([X, Z, Y]).T, columns=['X', 'Z', 'Y']) \n",
    "\n",
    "\n",
    "# The third dataset\n",
    "U = np.random.randn(sample_size)\n",
    "Z = np.random.randn(sample_size)\n",
    "X = 0.6*Z + 0.43*U + np.random.randn(sample_size)\n",
    "Y = 0.45*U + 0.87*X + 0.4*np.random.randn(sample_size)\n",
    "\n",
    "# Note that we're ommiting U in the dataframe as it's unobserved\n",
    "data_3 = pd.DataFrame(np.vstack([X, Z, Y]).T, columns=['X', 'Z', 'Y'])"
   ]
  },
  {
   "cell_type": "code",
   "execution_count": 15,
   "id": "adc64c9f",
   "metadata": {},
   "outputs": [
    {
     "data": {
      "text/html": [
       "<div>\n",
       "<style scoped>\n",
       "    .dataframe tbody tr th:only-of-type {\n",
       "        vertical-align: middle;\n",
       "    }\n",
       "\n",
       "    .dataframe tbody tr th {\n",
       "        vertical-align: top;\n",
       "    }\n",
       "\n",
       "    .dataframe thead th {\n",
       "        text-align: right;\n",
       "    }\n",
       "</style>\n",
       "<table border=\"1\" class=\"dataframe\">\n",
       "  <thead>\n",
       "    <tr style=\"text-align: right;\">\n",
       "      <th></th>\n",
       "      <th>X</th>\n",
       "      <th>Z</th>\n",
       "      <th>Y</th>\n",
       "    </tr>\n",
       "  </thead>\n",
       "  <tbody>\n",
       "    <tr>\n",
       "      <th>0</th>\n",
       "      <td>-0.016923</td>\n",
       "      <td>-0.300497</td>\n",
       "      <td>0.510773</td>\n",
       "    </tr>\n",
       "    <tr>\n",
       "      <th>1</th>\n",
       "      <td>-1.061049</td>\n",
       "      <td>-0.539422</td>\n",
       "      <td>-0.663949</td>\n",
       "    </tr>\n",
       "    <tr>\n",
       "      <th>2</th>\n",
       "      <td>-1.378494</td>\n",
       "      <td>-1.004373</td>\n",
       "      <td>-1.551611</td>\n",
       "    </tr>\n",
       "    <tr>\n",
       "      <th>3</th>\n",
       "      <td>-0.206601</td>\n",
       "      <td>0.029676</td>\n",
       "      <td>-0.254268</td>\n",
       "    </tr>\n",
       "    <tr>\n",
       "      <th>4</th>\n",
       "      <td>0.454844</td>\n",
       "      <td>0.469527</td>\n",
       "      <td>0.057093</td>\n",
       "    </tr>\n",
       "    <tr>\n",
       "      <th>...</th>\n",
       "      <td>...</td>\n",
       "      <td>...</td>\n",
       "      <td>...</td>\n",
       "    </tr>\n",
       "    <tr>\n",
       "      <th>995</th>\n",
       "      <td>-0.159606</td>\n",
       "      <td>-0.066435</td>\n",
       "      <td>-0.934693</td>\n",
       "    </tr>\n",
       "    <tr>\n",
       "      <th>996</th>\n",
       "      <td>0.561998</td>\n",
       "      <td>0.514833</td>\n",
       "      <td>0.875948</td>\n",
       "    </tr>\n",
       "    <tr>\n",
       "      <th>997</th>\n",
       "      <td>0.044790</td>\n",
       "      <td>0.331849</td>\n",
       "      <td>0.993465</td>\n",
       "    </tr>\n",
       "    <tr>\n",
       "      <th>998</th>\n",
       "      <td>-1.337306</td>\n",
       "      <td>-0.988353</td>\n",
       "      <td>-0.848626</td>\n",
       "    </tr>\n",
       "    <tr>\n",
       "      <th>999</th>\n",
       "      <td>1.024691</td>\n",
       "      <td>0.884699</td>\n",
       "      <td>0.569752</td>\n",
       "    </tr>\n",
       "  </tbody>\n",
       "</table>\n",
       "<p>1000 rows × 3 columns</p>\n",
       "</div>"
      ],
      "text/plain": [
       "            X         Z         Y\n",
       "0   -0.016923 -0.300497  0.510773\n",
       "1   -1.061049 -0.539422 -0.663949\n",
       "2   -1.378494 -1.004373 -1.551611\n",
       "3   -0.206601  0.029676 -0.254268\n",
       "4    0.454844  0.469527  0.057093\n",
       "..        ...       ...       ...\n",
       "995 -0.159606 -0.066435 -0.934693\n",
       "996  0.561998  0.514833  0.875948\n",
       "997  0.044790  0.331849  0.993465\n",
       "998 -1.337306 -0.988353 -0.848626\n",
       "999  1.024691  0.884699  0.569752\n",
       "\n",
       "[1000 rows x 3 columns]"
      ]
     },
     "execution_count": 15,
     "metadata": {},
     "output_type": "execute_result"
    }
   ],
   "source": [
    "data_2"
   ]
  },
  {
   "cell_type": "code",
   "execution_count": null,
   "id": "144dd58b",
   "metadata": {},
   "outputs": [],
   "source": []
  }
 ],
 "metadata": {
  "kernelspec": {
   "display_name": "Python [conda env:causal_kung_fu_1_py38]",
   "language": "python",
   "name": "conda-env-causal_kung_fu_1_py38-py"
  },
  "language_info": {
   "codemirror_mode": {
    "name": "ipython",
    "version": 3
   },
   "file_extension": ".py",
   "mimetype": "text/x-python",
   "name": "python",
   "nbconvert_exporter": "python",
   "pygments_lexer": "ipython3",
   "version": "3.8.13"
  }
 },
 "nbformat": 4,
 "nbformat_minor": 5
}
