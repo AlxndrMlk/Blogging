{
 "cells": [
  {
   "cell_type": "code",
   "execution_count": 2,
   "id": "9880c3b4",
   "metadata": {},
   "outputs": [],
   "source": [
    "import os\n",
    "from itertools import combinations\n",
    "\n",
    "import numpy as np\n",
    "from scipy import linalg \n",
    "from scipy import stats \n",
    "\n",
    "import matplotlib.pyplot as plt\n",
    "\n",
    "from langchain.agents import load_tools, initialize_agent\n",
    "from langchain.agents import AgentType\n",
    "\n",
    "from langchain.chat_models import ChatOpenAI\n",
    "\n",
    "from castle.common import GraphDAG\n",
    "from castle.metrics import MetricsDAG\n",
    "from castle.algorithms import PC\n",
    "\n",
    "from castle.common.priori_knowledge import PrioriKnowledge"
   ]
  },
  {
   "cell_type": "code",
   "execution_count": 3,
   "id": "e1e41fe7",
   "metadata": {},
   "outputs": [],
   "source": [
    "COLORS = [\n",
    "    '#00B0F0',\n",
    "    '#FF0000',\n",
    "    '#B0F000'\n",
    "]"
   ]
  },
  {
   "cell_type": "code",
   "execution_count": null,
   "id": "5fd7352f",
   "metadata": {},
   "outputs": [],
   "source": [
    "def check_if_dag(A):\n",
    "    return np.trace(linalg.expm(A * A)) - A.shape[0] == 0"
   ]
  },
  {
   "cell_type": "markdown",
   "id": "f6185948",
   "metadata": {},
   "source": [
    "# Jane The Discoverer\n",
    "\n",
    "A part of [CausalPython](https://causalpython.io) series on causality.\n",
    "\n",
    "<a href=\"https://causalpython.io\"><img src=\"img/CausalPython.io__flat.png\" width=150 align=\"left\"></a>\n",
    "<br>"
   ]
  },
  {
   "cell_type": "markdown",
   "id": "ff5c5070",
   "metadata": {},
   "source": [
    "## Create the environment\n",
    "\n",
    "\n",
    "To run this notebook use the environment called `causal-nlp-openai-langchain`.\n",
    "\n",
    "To create it: `conda env create -f causal-nlp-openai-langchain.yml`\n",
    "\n",
    "You'll need [Conda](https://docs.conda.io/en/latest/) to install it."
   ]
  },
  {
   "cell_type": "markdown",
   "id": "cc77d263",
   "metadata": {},
   "source": [
    "## Set the key"
   ]
  },
  {
   "cell_type": "code",
   "execution_count": 4,
   "id": "168cfd07",
   "metadata": {},
   "outputs": [],
   "source": [
    "with open(r'../../__keys/openai.dat') as f:\n",
    "    key = f.read()\n",
    "    \n",
    "os.environ['OPENAI_API_KEY'] = key"
   ]
  },
  {
   "cell_type": "markdown",
   "id": "231ee068",
   "metadata": {},
   "source": [
    "## Generate the data"
   ]
  },
  {
   "cell_type": "code",
   "execution_count": 9,
   "id": "11e971bb",
   "metadata": {},
   "outputs": [],
   "source": [
    "all_vars = {\n",
    "    'altitude': 0,\n",
    "    'oxygen_density': 1,\n",
    "    'temperature': 2,\n",
    "    'risk_of_death': 3,\n",
    "    'mehendretex': 4\n",
    "}"
   ]
  },
  {
   "cell_type": "code",
   "execution_count": 10,
   "id": "b1c316e5",
   "metadata": {},
   "outputs": [],
   "source": [
    "SAMPLE_SIZE = 1000\n",
    "\n",
    "altitude = stats.halfnorm.rvs(scale=2000, size=SAMPLE_SIZE)\n",
    "temperature = 25 - altitude / 100 + stats.norm.rvs(\n",
    "    loc=0,\n",
    "    scale=2,\n",
    "    size=SAMPLE_SIZE\n",
    ")\n",
    "\n",
    "mehendretex = stats.halfnorm.rvs(size=SAMPLE_SIZE)\n",
    "\n",
    "oxygen_density = np.clip(\n",
    "    1 - altitude / 8000 \n",
    "    - temperature / 50 \n",
    "    + stats.norm.rvs(size=SAMPLE_SIZE) / 20,\n",
    "    0, \n",
    "    1)\n",
    "\n",
    "risk_of_death = np.clip(\n",
    "    altitude / 20000 \n",
    "    + np.abs(temperature) / 100 \n",
    "    - oxygen_density / 5 \n",
    "    - mehendretex / 5\n",
    "    + stats.norm.rvs(size=SAMPLE_SIZE) / 10,\n",
    "    0,\n",
    "    1\n",
    ")"
   ]
  },
  {
   "cell_type": "code",
   "execution_count": 11,
   "id": "0ee3773e",
   "metadata": {},
   "outputs": [],
   "source": [
    "dataset = np.stack(\n",
    "    [\n",
    "        altitude,\n",
    "        oxygen_density,\n",
    "        temperature,\n",
    "        risk_of_death,\n",
    "        mehendretex\n",
    "    ]\n",
    ").T"
   ]
  },
  {
   "cell_type": "code",
   "execution_count": 12,
   "id": "2143620c",
   "metadata": {},
   "outputs": [],
   "source": [
    "true_dag = np.array(\n",
    "    [\n",
    "        [0, 1, 1, 1, 0],\n",
    "        [0, 0, 0, 1, 0],\n",
    "        [0, 1, 0, 1, 0],\n",
    "        [0, 0, 0, 0, 0],\n",
    "        [0, 0, 0, 1, 0]\n",
    "    ]\n",
    ")"
   ]
  },
  {
   "cell_type": "markdown",
   "id": "19ba2c60",
   "metadata": {},
   "source": [
    "## PC without LLM assistance"
   ]
  },
  {
   "cell_type": "code",
   "execution_count": 13,
   "id": "c48ba2b7",
   "metadata": {},
   "outputs": [
    {
     "name": "stdout",
     "output_type": "stream",
     "text": [
      "Is learned matrix a DAG: False\n"
     ]
    },
    {
     "data": {
      "image/png": "[encoded data removed]",
      "text/plain": [
       "<Figure size 800x300 with 4 Axes>"
      ]
     },
     "metadata": {},
     "output_type": "display_data"
    },
    {
     "name": "stdout",
     "output_type": "stream",
     "text": [
      "{'fdr': 0.0, 'tpr': 0.5714, 'fpr': 0.0, 'shd': 3, 'nnz': 4, 'precision': 0.5, 'recall': 0.5714, 'F1': 0.5333, 'gscore': 0.0}\n"
     ]
    }
   ],
   "source": [
    "# PC discovery without LLM assist\n",
    "pc = PC(variant='stable')\n",
    "pc.learn(dataset)\n",
    "\n",
    "print(f'Is learned matrix a DAG: {check_if_dag(pc.causal_matrix)}')\n",
    "\n",
    "# Vizualize\n",
    "GraphDAG(\n",
    "    est_dag=pc.causal_matrix, \n",
    "    true_dag=true_dag)\n",
    "\n",
    "plt.show()\n",
    "\n",
    "# Compute metrics\n",
    "metrics = MetricsDAG(\n",
    "    B_est=pc.causal_matrix, \n",
    "    B_true=true_dag)\n",
    "\n",
    "print(metrics.metrics)"
   ]
  },
  {
   "cell_type": "code",
   "execution_count": 14,
   "id": "a354d704",
   "metadata": {},
   "outputs": [],
   "source": [
    "# Instantiate and encode priori knowledge\n",
    "priori_knowledge = PrioriKnowledge(n_nodes=len(all_vars))"
   ]
  },
  {
   "cell_type": "markdown",
   "id": "0d5525dc",
   "metadata": {},
   "source": [
    "## Instantiate the GPT agent"
   ]
  },
  {
   "cell_type": "code",
   "execution_count": 5,
   "id": "18ecb64b",
   "metadata": {},
   "outputs": [],
   "source": [
    "llm = ChatOpenAI(\n",
    "    temperature=0, # Temp == 0 => we want clear reasoning\n",
    "    model='gpt-4')#'gpt-3.5-turbo') "
   ]
  },
  {
   "cell_type": "code",
   "execution_count": 6,
   "id": "0abb0fa4",
   "metadata": {},
   "outputs": [],
   "source": [
    "# Load tools\n",
    "tools = load_tools(\n",
    "    [\n",
    "        \"wikipedia\"\n",
    "    ], \n",
    "    llm=llm)"
   ]
  },
  {
   "cell_type": "code",
   "execution_count": 7,
   "id": "e7656e74",
   "metadata": {},
   "outputs": [],
   "source": [
    "# Instantiate the agent\n",
    "agent = initialize_agent(\n",
    "    tools, \n",
    "    llm, \n",
    "    agent=AgentType.CHAT_ZERO_SHOT_REACT_DESCRIPTION,\n",
    "    handle_parsing_errors=True,\n",
    "    verbose=False)"
   ]
  },
  {
   "cell_type": "code",
   "execution_count": 8,
   "id": "e3470579",
   "metadata": {},
   "outputs": [],
   "source": [
    "def get_llm_info(llm, agent, var_1, var_2):\n",
    "    \n",
    "    out = agent(f\"Does {var_1} cause {var_2} or the other way around?\\\n",
    "    We assume the following definition of causation:\\\n",
    "    if we change A, B will also change.\\\n",
    "    The relationship does not have to be linear or monotonic.\\\n",
    "    We are interested in all types of causal relationships, including\\\n",
    "    partial and indirect relationships, given that our definition holds.\\\n",
    "    \")\n",
    "    \n",
    "    print(out)\n",
    "    \n",
    "    pred = llm.predict(f'We assume the following definition of causation:\\\n",
    "    if we change A, B will also change.\\\n",
    "    Based on the following information: {out[\"output\"]},\\\n",
    "    print (0,1) if {var_1} causes {var_2},\\\n",
    "    print (1, 0) if {var_2} causes {var_1}, print (0,0)\\\n",
    "    if there is no causal relationship between {var_1} and {var_2}.\\\n",
    "    Finally, print (-1, -1) if you don\\'t know. Importantly, don\\'t try to\\\n",
    "    make up an answer if you don\\'t know.')\n",
    "    \n",
    "    print(pred)\n",
    "    \n",
    "    return pred"
   ]
  },
  {
   "cell_type": "markdown",
   "id": "c69646f5",
   "metadata": {},
   "source": [
    "## Add priori knowledge from the LLM"
   ]
  },
  {
   "cell_type": "code",
   "execution_count": 15,
   "id": "1a65e96a",
   "metadata": {
    "scrolled": false
   },
   "outputs": [
    {
     "name": "stdout",
     "output_type": "stream",
     "text": [
      "altitude oxygen_density\n",
      "{'input': 'Does altitude cause oxygen_density or the other way around?    We assume the following definition of causation:    if we change A, B will also change.    The relationship does not have to be linear or monotonic.    We are interested in all types of causal relationships, including    partial and indirect relationships, given that our definition holds.    ', 'output': 'Altitude causes changes in oxygen density.'}\n",
      "(0,1)\n",
      "altitude temperature\n",
      "{'input': 'Does altitude cause temperature or the other way around?    We assume the following definition of causation:    if we change A, B will also change.    The relationship does not have to be linear or monotonic.    We are interested in all types of causal relationships, including    partial and indirect relationships, given that our definition holds.    ', 'output': \"Altitude and temperature interact in complex ways within the Earth's atmosphere, and it's not accurate to say that one causes the other. Changes in altitude can influence temperature, and changes in temperature can also have effects that influence altitude.\"}\n",
      "(1, 1)\n",
      "altitude risk_of_death\n",
      "{'input': 'Does altitude cause risk_of_death or the other way around?    We assume the following definition of causation:    if we change A, B will also change.    The relationship does not have to be linear or monotonic.    We are interested in all types of causal relationships, including    partial and indirect relationships, given that our definition holds.    ', 'output': 'Altitude can cause an increased risk of death.'}\n",
      "(0,1)\n",
      "altitude mehendretex\n",
      "{'input': 'Does altitude cause mehendretex or the other way around?    We assume the following definition of causation:    if we change A, B will also change.    The relationship does not have to be linear or monotonic.    We are interested in all types of causal relationships, including    partial and indirect relationships, given that our definition holds.    ', 'output': 'I\\'m sorry, but I couldn\\'t find any information on \"mehendretex\". Therefore, it\\'s impossible to determine whether it\\'s caused by altitude or vice versa.'}\n",
      "(-1, -1)\n",
      "oxygen_density temperature\n",
      "{'input': 'Does oxygen_density cause temperature or the other way around?    We assume the following definition of causation:    if we change A, B will also change.    The relationship does not have to be linear or monotonic.    We are interested in all types of causal relationships, including    partial and indirect relationships, given that our definition holds.    ', 'output': \"The ideal gas law suggests that the density of a gas is related to its temperature, but it doesn't specify a causal relationship. To determine causality, an experiment would need to be conducted where one variable (either oxygen density or temperature) is changed and the effect on the other is observed.\"}\n",
      "(-1, -1)\n",
      "oxygen_density risk_of_death\n"
     ]
    },
    {
     "name": "stderr",
     "output_type": "stream",
     "text": [
      "C:\\Users\\aleks\\anaconda3\\envs\\causal-nlp-openai-langchain\\lib\\site-packages\\wikipedia\\wikipedia.py:389: GuessedAtParserWarning: No parser was explicitly specified, so I'm using the best available HTML parser for this system (\"lxml\"). This usually isn't a problem, but if you run this code on another system, or in a different virtual environment, it may use a different parser and behave differently.\n",
      "\n",
      "The code that caused this warning is on line 389 of the file C:\\Users\\aleks\\anaconda3\\envs\\causal-nlp-openai-langchain\\lib\\site-packages\\wikipedia\\wikipedia.py. To get rid of this warning, pass the additional argument 'features=\"lxml\"' to the BeautifulSoup constructor.\n",
      "\n",
      "  lis = BeautifulSoup(html).find_all('li')\n"
     ]
    },
    {
     "name": "stdout",
     "output_type": "stream",
     "text": [
      "{'input': 'Does oxygen_density cause risk_of_death or the other way around?    We assume the following definition of causation:    if we change A, B will also change.    The relationship does not have to be linear or monotonic.    We are interested in all types of causal relationships, including    partial and indirect relationships, given that our definition holds.    ', 'output': 'Changes in oxygen density can cause changes in the risk of death. Both low oxygen density (hypoxia) and high oxygen density (hyperoxia) can lead to health problems and increase the risk of death.'}\n",
      "(0,1)\n",
      "oxygen_density mehendretex\n",
      "{'input': 'Does oxygen_density cause mehendretex or the other way around?    We assume the following definition of causation:    if we change A, B will also change.    The relationship does not have to be linear or monotonic.    We are interested in all types of causal relationships, including    partial and indirect relationships, given that our definition holds.    ', 'output': 'I\\'m sorry, but without more information on what \"mehendretex\" is, I can\\'t determine if there\\'s a causal relationship between it and oxygen density.'}\n",
      "(-1, -1)\n",
      "temperature risk_of_death\n",
      "{'input': 'Does temperature cause risk_of_death or the other way around?    We assume the following definition of causation:    if we change A, B will also change.    The relationship does not have to be linear or monotonic.    We are interested in all types of causal relationships, including    partial and indirect relationships, given that our definition holds.    ', 'output': \"Yes, changes in temperature can influence the risk of death, particularly in vulnerable populations. However, it's not accurate to say that temperature alone causes changes in the risk of death, as this is a complex issue with many contributing factors.\"}\n",
      "(0,1)\n",
      "temperature mehendretex\n",
      "{'input': 'Does temperature cause mehendretex or the other way around?    We assume the following definition of causation:    if we change A, B will also change.    The relationship does not have to be linear or monotonic.    We are interested in all types of causal relationships, including    partial and indirect relationships, given that our definition holds.    ', 'output': 'I\\'m sorry, but I couldn\\'t find any information on \"mehendretex\". Therefore, it\\'s impossible to determine whether it has any causal relationship with temperature.'}\n",
      "(-1, -1)\n",
      "risk_of_death mehendretex\n",
      "{'input': 'Does risk_of_death cause mehendretex or the other way around?    We assume the following definition of causation:    if we change A, B will also change.    The relationship does not have to be linear or monotonic.    We are interested in all types of causal relationships, including    partial and indirect relationships, given that our definition holds.    ', 'output': 'I\\'m sorry, but I couldn\\'t find any information on \"mehendretex\". Therefore, it\\'s impossible to determine a causal relationship between \"risk_of_death\" and \"mehendretex\". Could you please provide more context or check if \"mehendretex\" is spelled correctly?'}\n",
      "(-1, -1)\n",
      "\n",
      "LLM knowledge vs true DAG\n",
      "\n",
      "Checking if priori graph is a DAG: True\n"
     ]
    },
    {
     "data": {
      "image/png": "[encoded data removed]",
      "text/plain": [
       "<Figure size 800x300 with 4 Axes>"
      ]
     },
     "metadata": {},
     "output_type": "display_data"
    },
    {
     "name": "stdout",
     "output_type": "stream",
     "text": [
      "\n",
      "Running PC\n"
     ]
    },
    {
     "data": {
      "image/png": "[encoded data removed]",
      "text/plain": [
       "<Figure size 800x300 with 4 Axes>"
      ]
     },
     "metadata": {},
     "output_type": "display_data"
    },
    {
     "name": "stdout",
     "output_type": "stream",
     "text": [
      "{'fdr': 0.0, 'tpr': 1.0, 'fpr': 0.0, 'shd': 0, 'nnz': 7, 'precision': 0.875, 'recall': 1.0, 'F1': 0.9333, 'gscore': 0.8571}\n"
     ]
    }
   ],
   "source": [
    "for var_1, var_2 in combinations(all_vars.keys(), r=2):\n",
    "    print(var_1, var_2)\n",
    "    out = get_llm_info(llm, agent, var_1, var_2)\n",
    "    if out=='(0,1)':\n",
    "        priori_knowledge.add_required_edges(\n",
    "            [(all_vars[var_1], all_vars[var_2])]\n",
    "        )\n",
    "        \n",
    "        priori_knowledge.add_forbidden_edges(\n",
    "            [(all_vars[var_2], all_vars[var_1])]\n",
    "        )\n",
    "\n",
    "    elif out=='(1,0)':\n",
    "        priori_knowledge.add_required_edges(\n",
    "            [(all_vars[var_2], all_vars[var_1])]\n",
    "        )\n",
    "        priori_knowledge.add_forbidden_edges(\n",
    "            [(all_vars[var_1], all_vars[var_2])]\n",
    "        )\n",
    "\n",
    "print('\\nLLM knowledge vs true DAG')\n",
    "priori_dag = np.clip(priori_knowledge.matrix, 0, 1)\n",
    "\n",
    "print(f'\\nChecking if priori graph is a DAG: {check_if_dag(priori_dag)}')\n",
    "\n",
    "GraphDAG(\n",
    "    est_dag=priori_dag, \n",
    "    true_dag=true_dag)\n",
    "\n",
    "plt.show()\n",
    "\n",
    "print('\\nRunning PC')\n",
    "\n",
    "# Instantiate the model with expert knowledge\n",
    "pc_priori = PC(\n",
    "    priori_knowledge=priori_knowledge,\n",
    "    variant='stable'\n",
    ")\n",
    "\n",
    "# Learn\n",
    "pc_priori.learn(dataset)\n",
    "\n",
    "GraphDAG(\n",
    "    est_dag=pc_priori.causal_matrix, \n",
    "    true_dag=true_dag)\n",
    "\n",
    "plt.show()\n",
    "\n",
    "# Compute metrics\n",
    "metrics = MetricsDAG(\n",
    "    B_est=pc_priori.causal_matrix, \n",
    "    B_true=true_dag)\n",
    "\n",
    "print(metrics.metrics)"
   ]
  }
 ],
 "metadata": {
  "kernelspec": {
   "display_name": "Python [conda env:causal-nlp-openai-langchain]",
   "language": "python",
   "name": "conda-env-causal-nlp-openai-langchain-py"
  },
  "language_info": {
   "codemirror_mode": {
    "name": "ipython",
    "version": 3
   },
   "file_extension": ".py",
   "mimetype": "text/x-python",
   "name": "python",
   "nbconvert_exporter": "python",
   "pygments_lexer": "ipython3",
   "version": "3.9.17"
  }
 },
 "nbformat": 4,
 "nbformat_minor": 5
}
