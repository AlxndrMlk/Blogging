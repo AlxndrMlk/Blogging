{
 "cells": [
  {
   "cell_type": "code",
   "execution_count": 1,
   "id": "4dbc6faa",
   "metadata": {},
   "outputs": [],
   "source": [
    "import numpy as np\n",
    "import pandas as pd\n",
    "\n",
    "from econml.metalearners import SLearner, TLearner, XLearner\n",
    "from sklearn.ensemble import RandomForestClassifier, RandomForestRegressor\n",
    "import lightgbm as lgb\n",
    "\n",
    "from sklearn.metrics import mean_absolute_percentage_error\n",
    "\n",
    "import networkx as nx\n",
    "\n",
    "import matplotlib.pyplot as plt\n",
    "plt.style.use('fivethirtyeight')"
   ]
  },
  {
   "cell_type": "code",
   "execution_count": 2,
   "id": "779c727c",
   "metadata": {},
   "outputs": [],
   "source": [
    "COLORS = [\n",
    "    '#FFFFFF',\n",
    "    '#ECECEC',\n",
    "    '#EBDF2B',\n",
    "    '#263F6B',\n",
    "    '#213559',\n",
    "]"
   ]
  },
  {
   "cell_type": "markdown",
   "id": "fc008629",
   "metadata": {},
   "source": [
    "# A Simple Blueprint to Predict Causal Effects for Unseen Data Using Python\n",
    "\n",
    "This is a notebook accompanying the blog post **[Level Up! A Simple Blueprint to Predict Causal Effects for Unseen Data Using Python.]()**"
   ]
  },
  {
   "cell_type": "markdown",
   "id": "b6637201",
   "metadata": {},
   "source": [
    "**CATE** ($\\tau$) is defined as:\n",
    "\n",
    "$$\\Large \\tau(X_i) = E[Y_i(1)|X_i] - E[Y_i(0)|X_i]$$\n",
    "\n",
    "<br>"
   ]
  },
  {
   "cell_type": "markdown",
   "id": "899fb600",
   "metadata": {},
   "source": [
    "## Experimental data\n",
    "\n",
    "Our **SCM** is defined by the following set of structural equations:\n",
    "\n",
    "$$\\large X \\sim \\mathcal{N}(0, 1)$$\n",
    "\n",
    "$$\\large T \\sim Bernoulli(0.5)$$\n",
    "\n",
    "$$\\large y := 2\\times T \\times f(X) + 2 + \\mathcal{N}(0, 1)$$\n",
    "\n",
    "<br>\n",
    "where:\n",
    "\n",
    "* $X$ is a $d$-dimensional feature vector (in our example $d=4$)\n",
    "* $T$ is the treatment\n",
    "* $y$ is the outcome\n",
    "\n",
    "* $f(X)$ is a function defined in the code block below.\n"
   ]
  },
  {
   "cell_type": "code",
   "execution_count": 3,
   "id": "53cf07bc",
   "metadata": {},
   "outputs": [],
   "source": [
    "G = nx.DiGraph()\n",
    "G.add_edges_from(\n",
    "    [\n",
    "        ('X', 'Y'),\n",
    "        ('T', 'Y')\n",
    "    ]\n",
    ")"
   ]
  },
  {
   "cell_type": "code",
   "execution_count": 4,
   "id": "62e5f4c8",
   "metadata": {},
   "outputs": [
    {
     "data": {
      "image/png": "[encoded data removed]",
      "text/plain": [
       "<Figure size 432x288 with 1 Axes>"
      ]
     },
     "metadata": {},
     "output_type": "display_data"
    }
   ],
   "source": [
    "nx.draw(\n",
    "    G, \n",
    "    node_color=COLORS[4],\n",
    "    node_size=1000,\n",
    "    font_color=COLORS[0],\n",
    "    with_labels=True,)"
   ]
  },
  {
   "cell_type": "code",
   "execution_count": 28,
   "id": "c73c7f40",
   "metadata": {},
   "outputs": [],
   "source": [
    "class SCM:\n",
    "    \"\"\"An SCM representing the data generating process\"\"\"\n",
    "    def __init__(self, x_dim=1):\n",
    "        self.x_dim = x_dim\n",
    "    \n",
    "    def sample(self, sample_size):\n",
    "        X = np.random.normal(0, 1, (sample_size, self.x_dim))\n",
    "        noise_y = np.random.randn(sample_size, 1)\n",
    "        T = np.random.choice([0., 1.], (sample_size, 1))\n",
    "        y = T * (2. * self.__get_coefficients(X)).sum(axis=1).reshape(-1, 1) + 2. + noise_y\n",
    "        return X, T, y, noise_y\n",
    "    \n",
    "    def get_counterfactual(self, X, T, noise_y):\n",
    "        y = T * (2. * self.__get_coefficients(X)).sum(axis=1).reshape(-1, 1) + 2. + noise_y\n",
    "        return y\n",
    "        \n",
    "    def __get_coefficients(self, X):\n",
    "        return np.sin(X) + X * np.where(X > 0, 2.25, -3.25)"
   ]
  },
  {
   "cell_type": "markdown",
   "id": "252c260f",
   "metadata": {},
   "source": [
    "## Get the data"
   ]
  },
  {
   "cell_type": "code",
   "execution_count": 29,
   "id": "a475732f",
   "metadata": {},
   "outputs": [],
   "source": [
    "# Initialize the SCM\n",
    "scm = SCM(x_dim=4)\n",
    "\n",
    "# Sample from the SCM\n",
    "X, T, y, noise_y = scm.sample(1000)"
   ]
  },
  {
   "cell_type": "markdown",
   "id": "f2bed0a9",
   "metadata": {},
   "source": [
    "## Initialize and fit the models"
   ]
  },
  {
   "cell_type": "code",
   "execution_count": 30,
   "id": "3e177504",
   "metadata": {},
   "outputs": [],
   "source": [
    "# Intialize the models\n",
    "s_learner = SLearner(\n",
    "    overall_model=lgb.LGBMRegressor(n_estimators=500, max_depth=10)\n",
    ")\n",
    "\n",
    "t_learner = TLearner(\n",
    "    models=[\n",
    "        lgb.LGBMRegressor(n_estimators=500, max_depth=10),\n",
    "        lgb.LGBMRegressor(n_estimators=500, max_depth=10)\n",
    "    ]\n",
    ")\n",
    "\n",
    "x_learner = XLearner(\n",
    "    models=[\n",
    "        lgb.LGBMRegressor(n_estimators=500, max_depth=10),\n",
    "        lgb.LGBMRegressor(n_estimators=500, max_depth=10)\n",
    "    ],\n",
    "    propensity_model=lgb.LGBMClassifier(n_estimators=500, max_depth=10)\n",
    ")"
   ]
  },
  {
   "cell_type": "code",
   "execution_count": 31,
   "id": "fec5be71",
   "metadata": {},
   "outputs": [
    {
     "name": "stderr",
     "output_type": "stream",
     "text": [
      "Function get_feature_names is deprecated; get_feature_names is deprecated in 1.0 and will be removed in 1.2. Please use get_feature_names_out instead.\n",
      "Function get_feature_names is deprecated; get_feature_names is deprecated in 1.0 and will be removed in 1.2. Please use get_feature_names_out instead.\n",
      "Function get_feature_names is deprecated; get_feature_names is deprecated in 1.0 and will be removed in 1.2. Please use get_feature_names_out instead.\n"
     ]
    },
    {
     "data": {
      "text/plain": [
       "<econml.metalearners._metalearners.XLearner at 0x2343b52ef10>"
      ]
     },
     "execution_count": 31,
     "metadata": {},
     "output_type": "execute_result"
    }
   ],
   "source": [
    "# Fit the models\n",
    "s_learner.fit(X=X, T=T.ravel(), Y=y.ravel())#, inference='bootstrap')\n",
    "t_learner.fit(X=X, T=T.ravel(), Y=y.ravel())#e='bootstrap')\n",
    "x_learner.fit(X=X, T=T.ravel(), Y=y.ravel())"
   ]
  },
  {
   "cell_type": "markdown",
   "id": "ac2c6657",
   "metadata": {},
   "source": [
    "## Evaluate the models"
   ]
  },
  {
   "cell_type": "code",
   "execution_count": 35,
   "id": "9ff578d3",
   "metadata": {},
   "outputs": [],
   "source": [
    "# Generate the test data\n",
    "X_test, _, y_test, noise_y_test = scm.sample(10000)\n",
    "\n",
    "results = []\n",
    "for i in range(1000):\n",
    "    data_scm_1 = scm.get_counterfactual(X_test, np.ones(X_test.shape[0]).reshape(-1, 1), noise_y_test)\n",
    "    data_scm_0 = scm.get_counterfactual(X_test, np.zeros(X_test.shape[0]).reshape(-1, 1), noise_y_test)\n",
    "    results.append((data_scm_1 - data_scm_0))"
   ]
  },
  {
   "cell_type": "code",
   "execution_count": 36,
   "id": "51811693",
   "metadata": {},
   "outputs": [],
   "source": [
    "# Genertae predictions\n",
    "preds_s = s_learner.effect(X_test)\n",
    "preds_t = t_learner.effect(X_test)\n",
    "preds_x = x_learner.effect(X_test)\n",
    "\n",
    "# Generate the expected ground truth\n",
    "y_true_expected = np.array(results).mean(axis=0).ravel()"
   ]
  },
  {
   "cell_type": "code",
   "execution_count": 37,
   "id": "dc8636b7",
   "metadata": {},
   "outputs": [
    {
     "name": "stdout",
     "output_type": "stream",
     "text": [
      "S-Learner MAPE = 0.0895\n",
      "T-Learner MAPE = 0.0978\n",
      "X-Learner MAPE = 0.0974\n"
     ]
    }
   ],
   "source": [
    "# Compute MAPE\n",
    "for model, preds in {'S-Learner': preds_s, 'T-Learner': preds_t, 'X-Learner': preds_x}.items():\n",
    "    mape = mean_absolute_percentage_error(y_true=y_true_expected, y_pred=preds)\n",
    "    print(f'{model} MAPE = {mape:0.4f}')"
   ]
  },
  {
   "cell_type": "markdown",
   "id": "c68e3f04",
   "metadata": {},
   "source": [
    "## Confounded observational data"
   ]
  },
  {
   "cell_type": "code",
   "execution_count": 897,
   "id": "2a378786",
   "metadata": {},
   "outputs": [],
   "source": [
    "class SCM2:\n",
    "    \"\"\"An SCM representing the data generating process\"\"\"\n",
    "    def __init__(self, x_dim=1):\n",
    "        self.x_dim = x_dim\n",
    "    \n",
    "    def sample(self, sample_size, p0=.5):\n",
    "        self.Z = np.random.uniform(0, 1, (sample_size, 1))\n",
    "        X = np.random.normal(0, 1, (sample_size, self.x_dim))\n",
    "        T = np.where(self.Z < p0, 0, 1)#np.random.choice([0., 1.], (sample_size, 1), p=[])\n",
    "        y = T * (2. * self.__get_coefficients(X)).sum(axis=1).reshape(-1, 1) + self.Z + 1. + np.random.randn(sample_size, 1)\n",
    "        return X, T, y\n",
    "    \n",
    "    def get_counterfactual(self, X, T):\n",
    "        y = T * (2. * self.__get_coefficients(X)).sum(axis=1).reshape(-1, 1) + self.Z + np.random.randn(X.shape[0], 1)\n",
    "        return y\n",
    "        \n",
    "    def __get_coefficients(self, X):\n",
    "        return np.sin(X) + X * np.where(X > 0, 2.25, -3.25)"
   ]
  },
  {
   "cell_type": "code",
   "execution_count": 946,
   "id": "eab4cf06",
   "metadata": {},
   "outputs": [],
   "source": [
    "# Initialize the SCM\n",
    "scm = SCM2(x_dim=4)\n",
    "\n",
    "# Sample from the SCM\n",
    "X, T, y = scm.sample(1000, p0=.71)"
   ]
  },
  {
   "cell_type": "code",
   "execution_count": 947,
   "id": "48bec4cc",
   "metadata": {},
   "outputs": [],
   "source": [
    "# Intialize the models\n",
    "s_learner = SLearner(\n",
    "    overall_model=lgb.LGBMRegressor(n_estimators=500, max_depth=10)\n",
    ")\n",
    "\n",
    "t_learner = TLearner(\n",
    "    models=[\n",
    "        lgb.LGBMRegressor(n_estimators=500, max_depth=10),\n",
    "        lgb.LGBMRegressor(n_estimators=500, max_depth=10)\n",
    "    ]\n",
    ")\n",
    "\n",
    "x_learner = XLearner(\n",
    "    models=[\n",
    "        lgb.LGBMRegressor(n_estimators=500, max_depth=10),\n",
    "        lgb.LGBMRegressor(n_estimators=500, max_depth=10)\n",
    "    ],\n",
    "    propensity_model=lgb.LGBMClassifier(n_estimators=500, max_depth=10)\n",
    ")"
   ]
  },
  {
   "cell_type": "code",
   "execution_count": 948,
   "id": "f33198e5",
   "metadata": {},
   "outputs": [
    {
     "name": "stderr",
     "output_type": "stream",
     "text": [
      "Function get_feature_names is deprecated; get_feature_names is deprecated in 1.0 and will be removed in 1.2. Please use get_feature_names_out instead.\n",
      "Function get_feature_names is deprecated; get_feature_names is deprecated in 1.0 and will be removed in 1.2. Please use get_feature_names_out instead.\n",
      "Function get_feature_names is deprecated; get_feature_names is deprecated in 1.0 and will be removed in 1.2. Please use get_feature_names_out instead.\n"
     ]
    },
    {
     "data": {
      "text/plain": [
       "<econml.metalearners._metalearners.XLearner at 0x1c7e2096490>"
      ]
     },
     "execution_count": 948,
     "metadata": {},
     "output_type": "execute_result"
    }
   ],
   "source": [
    "# Fit the models\n",
    "s_learner.fit(X=X, T=T.ravel(), Y=y.ravel())#, inference='bootstrap')\n",
    "t_learner.fit(X=X, T=T.ravel(), Y=y.ravel())#e='bootstrap')\n",
    "x_learner.fit(X=X, T=T.ravel(), Y=y.ravel())"
   ]
  },
  {
   "cell_type": "code",
   "execution_count": 949,
   "id": "0386b270",
   "metadata": {},
   "outputs": [],
   "source": [
    "# Generate the test data\n",
    "X_test, _, y_test = scm.sample(100)\n",
    "\n",
    "results = []\n",
    "for i in range(1000):\n",
    "    data_scm_1 = scm.get_counterfactual(X_test, np.ones(X_test.shape[0]).reshape(-1, 1))\n",
    "    data_scm_0 = scm.get_counterfactual(X_test, np.zeros(X_test.shape[0]).reshape(-1, 1))\n",
    "    results.append((data_scm_1 - data_scm_0))"
   ]
  },
  {
   "cell_type": "code",
   "execution_count": 950,
   "id": "744b9943",
   "metadata": {},
   "outputs": [],
   "source": [
    "# Genertae predictions\n",
    "preds_s = s_learner.effect(X_test)\n",
    "preds_t = t_learner.effect(X_test)\n",
    "preds_x = x_learner.effect(X_test)\n",
    "\n",
    "# Generate the expected ground truth\n",
    "y_true_expected = np.array(results).mean(axis=0).ravel()"
   ]
  },
  {
   "cell_type": "code",
   "execution_count": 951,
   "id": "26865c21",
   "metadata": {},
   "outputs": [
    {
     "name": "stdout",
     "output_type": "stream",
     "text": [
      "S-Learner MAPE = 0.1155\n",
      "T-Learner MAPE = 0.1355\n",
      "X-Learner MAPE = 0.1305\n"
     ]
    }
   ],
   "source": [
    "# Compute MAPE\n",
    "for model, preds in {'S-Learner': preds_s, 'T-Learner': preds_t, 'X-Learner': preds_x}.items():\n",
    "    mape = mean_absolute_percentage_error(y_true=y_true_expected, y_pred=preds)\n",
    "    print(f'{model} MAPE = {mape:0.4f}')"
   ]
  },
  {
   "cell_type": "markdown",
   "id": "4a1d2b8e",
   "metadata": {},
   "source": [
    "## Hillstrom data"
   ]
  },
  {
   "cell_type": "code",
   "execution_count": 759,
   "id": "448ef2cc",
   "metadata": {},
   "outputs": [],
   "source": [
    "data = pd.read_csv(r'data/hillstrom_clean.csv')"
   ]
  },
  {
   "cell_type": "code",
   "execution_count": 760,
   "id": "f94251b7",
   "metadata": {},
   "outputs": [
    {
     "data": {
      "text/html": [
       "<div>\n",
       "<style scoped>\n",
       "    .dataframe tbody tr th:only-of-type {\n",
       "        vertical-align: middle;\n",
       "    }\n",
       "\n",
       "    .dataframe tbody tr th {\n",
       "        vertical-align: top;\n",
       "    }\n",
       "\n",
       "    .dataframe thead th {\n",
       "        text-align: right;\n",
       "    }\n",
       "</style>\n",
       "<table border=\"1\" class=\"dataframe\">\n",
       "  <thead>\n",
       "    <tr style=\"text-align: right;\">\n",
       "      <th></th>\n",
       "      <th>recency</th>\n",
       "      <th>history</th>\n",
       "      <th>mens</th>\n",
       "      <th>womens</th>\n",
       "      <th>newbie</th>\n",
       "      <th>visit</th>\n",
       "      <th>conversion</th>\n",
       "      <th>spend</th>\n",
       "      <th>zip_code__rural</th>\n",
       "      <th>zip_code__surburban</th>\n",
       "      <th>zip_code__urban</th>\n",
       "      <th>channel__multichannel</th>\n",
       "      <th>channel__phone</th>\n",
       "      <th>channel__web</th>\n",
       "      <th>treatment</th>\n",
       "    </tr>\n",
       "  </thead>\n",
       "  <tbody>\n",
       "    <tr>\n",
       "      <th>0</th>\n",
       "      <td>10</td>\n",
       "      <td>142.44</td>\n",
       "      <td>1</td>\n",
       "      <td>0</td>\n",
       "      <td>0</td>\n",
       "      <td>0</td>\n",
       "      <td>0</td>\n",
       "      <td>0.0</td>\n",
       "      <td>0</td>\n",
       "      <td>1</td>\n",
       "      <td>0</td>\n",
       "      <td>0</td>\n",
       "      <td>1</td>\n",
       "      <td>0</td>\n",
       "      <td>[0, 1, 0]</td>\n",
       "    </tr>\n",
       "    <tr>\n",
       "      <th>1</th>\n",
       "      <td>6</td>\n",
       "      <td>329.08</td>\n",
       "      <td>1</td>\n",
       "      <td>1</td>\n",
       "      <td>1</td>\n",
       "      <td>0</td>\n",
       "      <td>0</td>\n",
       "      <td>0.0</td>\n",
       "      <td>1</td>\n",
       "      <td>0</td>\n",
       "      <td>0</td>\n",
       "      <td>0</td>\n",
       "      <td>0</td>\n",
       "      <td>1</td>\n",
       "      <td>[1, 0, 0]</td>\n",
       "    </tr>\n",
       "    <tr>\n",
       "      <th>2</th>\n",
       "      <td>7</td>\n",
       "      <td>180.65</td>\n",
       "      <td>0</td>\n",
       "      <td>1</td>\n",
       "      <td>1</td>\n",
       "      <td>0</td>\n",
       "      <td>0</td>\n",
       "      <td>0.0</td>\n",
       "      <td>0</td>\n",
       "      <td>1</td>\n",
       "      <td>0</td>\n",
       "      <td>0</td>\n",
       "      <td>0</td>\n",
       "      <td>1</td>\n",
       "      <td>[0, 1, 0]</td>\n",
       "    </tr>\n",
       "    <tr>\n",
       "      <th>3</th>\n",
       "      <td>9</td>\n",
       "      <td>675.83</td>\n",
       "      <td>1</td>\n",
       "      <td>0</td>\n",
       "      <td>1</td>\n",
       "      <td>0</td>\n",
       "      <td>0</td>\n",
       "      <td>0.0</td>\n",
       "      <td>1</td>\n",
       "      <td>0</td>\n",
       "      <td>0</td>\n",
       "      <td>0</td>\n",
       "      <td>0</td>\n",
       "      <td>1</td>\n",
       "      <td>[0, 0, 1]</td>\n",
       "    </tr>\n",
       "    <tr>\n",
       "      <th>4</th>\n",
       "      <td>2</td>\n",
       "      <td>45.34</td>\n",
       "      <td>1</td>\n",
       "      <td>0</td>\n",
       "      <td>0</td>\n",
       "      <td>0</td>\n",
       "      <td>0</td>\n",
       "      <td>0.0</td>\n",
       "      <td>0</td>\n",
       "      <td>0</td>\n",
       "      <td>1</td>\n",
       "      <td>0</td>\n",
       "      <td>0</td>\n",
       "      <td>1</td>\n",
       "      <td>[0, 1, 0]</td>\n",
       "    </tr>\n",
       "    <tr>\n",
       "      <th>...</th>\n",
       "      <td>...</td>\n",
       "      <td>...</td>\n",
       "      <td>...</td>\n",
       "      <td>...</td>\n",
       "      <td>...</td>\n",
       "      <td>...</td>\n",
       "      <td>...</td>\n",
       "      <td>...</td>\n",
       "      <td>...</td>\n",
       "      <td>...</td>\n",
       "      <td>...</td>\n",
       "      <td>...</td>\n",
       "      <td>...</td>\n",
       "      <td>...</td>\n",
       "      <td>...</td>\n",
       "    </tr>\n",
       "    <tr>\n",
       "      <th>63995</th>\n",
       "      <td>10</td>\n",
       "      <td>105.54</td>\n",
       "      <td>1</td>\n",
       "      <td>0</td>\n",
       "      <td>0</td>\n",
       "      <td>0</td>\n",
       "      <td>0</td>\n",
       "      <td>0.0</td>\n",
       "      <td>0</td>\n",
       "      <td>0</td>\n",
       "      <td>1</td>\n",
       "      <td>0</td>\n",
       "      <td>0</td>\n",
       "      <td>1</td>\n",
       "      <td>[0, 0, 1]</td>\n",
       "    </tr>\n",
       "    <tr>\n",
       "      <th>63996</th>\n",
       "      <td>5</td>\n",
       "      <td>38.91</td>\n",
       "      <td>0</td>\n",
       "      <td>1</td>\n",
       "      <td>1</td>\n",
       "      <td>0</td>\n",
       "      <td>0</td>\n",
       "      <td>0.0</td>\n",
       "      <td>0</td>\n",
       "      <td>0</td>\n",
       "      <td>1</td>\n",
       "      <td>0</td>\n",
       "      <td>1</td>\n",
       "      <td>0</td>\n",
       "      <td>[0, 0, 1]</td>\n",
       "    </tr>\n",
       "    <tr>\n",
       "      <th>63997</th>\n",
       "      <td>6</td>\n",
       "      <td>29.99</td>\n",
       "      <td>1</td>\n",
       "      <td>0</td>\n",
       "      <td>1</td>\n",
       "      <td>0</td>\n",
       "      <td>0</td>\n",
       "      <td>0.0</td>\n",
       "      <td>0</td>\n",
       "      <td>0</td>\n",
       "      <td>1</td>\n",
       "      <td>0</td>\n",
       "      <td>1</td>\n",
       "      <td>0</td>\n",
       "      <td>[0, 0, 1]</td>\n",
       "    </tr>\n",
       "    <tr>\n",
       "      <th>63998</th>\n",
       "      <td>1</td>\n",
       "      <td>552.94</td>\n",
       "      <td>1</td>\n",
       "      <td>0</td>\n",
       "      <td>1</td>\n",
       "      <td>0</td>\n",
       "      <td>0</td>\n",
       "      <td>0.0</td>\n",
       "      <td>0</td>\n",
       "      <td>1</td>\n",
       "      <td>0</td>\n",
       "      <td>1</td>\n",
       "      <td>0</td>\n",
       "      <td>0</td>\n",
       "      <td>[0, 1, 0]</td>\n",
       "    </tr>\n",
       "    <tr>\n",
       "      <th>63999</th>\n",
       "      <td>1</td>\n",
       "      <td>472.82</td>\n",
       "      <td>0</td>\n",
       "      <td>1</td>\n",
       "      <td>0</td>\n",
       "      <td>0</td>\n",
       "      <td>0</td>\n",
       "      <td>0.0</td>\n",
       "      <td>0</td>\n",
       "      <td>1</td>\n",
       "      <td>0</td>\n",
       "      <td>0</td>\n",
       "      <td>0</td>\n",
       "      <td>1</td>\n",
       "      <td>[0, 0, 1]</td>\n",
       "    </tr>\n",
       "  </tbody>\n",
       "</table>\n",
       "<p>64000 rows × 15 columns</p>\n",
       "</div>"
      ],
      "text/plain": [
       "       recency  history  mens  womens  newbie  visit  conversion  spend  \\\n",
       "0           10   142.44     1       0       0      0           0    0.0   \n",
       "1            6   329.08     1       1       1      0           0    0.0   \n",
       "2            7   180.65     0       1       1      0           0    0.0   \n",
       "3            9   675.83     1       0       1      0           0    0.0   \n",
       "4            2    45.34     1       0       0      0           0    0.0   \n",
       "...        ...      ...   ...     ...     ...    ...         ...    ...   \n",
       "63995       10   105.54     1       0       0      0           0    0.0   \n",
       "63996        5    38.91     0       1       1      0           0    0.0   \n",
       "63997        6    29.99     1       0       1      0           0    0.0   \n",
       "63998        1   552.94     1       0       1      0           0    0.0   \n",
       "63999        1   472.82     0       1       0      0           0    0.0   \n",
       "\n",
       "       zip_code__rural  zip_code__surburban  zip_code__urban  \\\n",
       "0                    0                    1                0   \n",
       "1                    1                    0                0   \n",
       "2                    0                    1                0   \n",
       "3                    1                    0                0   \n",
       "4                    0                    0                1   \n",
       "...                ...                  ...              ...   \n",
       "63995                0                    0                1   \n",
       "63996                0                    0                1   \n",
       "63997                0                    0                1   \n",
       "63998                0                    1                0   \n",
       "63999                0                    1                0   \n",
       "\n",
       "       channel__multichannel  channel__phone  channel__web  treatment  \n",
       "0                          0               1             0  [0, 1, 0]  \n",
       "1                          0               0             1  [1, 0, 0]  \n",
       "2                          0               0             1  [0, 1, 0]  \n",
       "3                          0               0             1  [0, 0, 1]  \n",
       "4                          0               0             1  [0, 1, 0]  \n",
       "...                      ...             ...           ...        ...  \n",
       "63995                      0               0             1  [0, 0, 1]  \n",
       "63996                      0               1             0  [0, 0, 1]  \n",
       "63997                      0               1             0  [0, 0, 1]  \n",
       "63998                      1               0             0  [0, 1, 0]  \n",
       "63999                      0               0             1  [0, 0, 1]  \n",
       "\n",
       "[64000 rows x 15 columns]"
      ]
     },
     "execution_count": 760,
     "metadata": {},
     "output_type": "execute_result"
    }
   ],
   "source": [
    "data"
   ]
  },
  {
   "cell_type": "code",
   "execution_count": null,
   "id": "e05ad153",
   "metadata": {},
   "outputs": [],
   "source": []
  }
 ],
 "metadata": {
  "kernelspec": {
   "display_name": "Python [conda env:econml-dowhy-py38]",
   "language": "python",
   "name": "conda-env-econml-dowhy-py38-py"
  },
  "language_info": {
   "codemirror_mode": {
    "name": "ipython",
    "version": 3
   },
   "file_extension": ".py",
   "mimetype": "text/x-python",
   "name": "python",
   "nbconvert_exporter": "python",
   "pygments_lexer": "ipython3",
   "version": "3.8.12"
  }
 },
 "nbformat": 4,
 "nbformat_minor": 5
}
